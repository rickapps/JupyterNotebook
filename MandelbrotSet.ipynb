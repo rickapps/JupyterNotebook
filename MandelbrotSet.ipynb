{
 "cells": [
  {
   "cell_type": "markdown",
   "metadata": {},
   "source": [
    "# Mandelbrot Sets"
   ]
  },
  {
   "cell_type": "markdown",
   "metadata": {},
   "source": [
    "\n",
    "$ x_{n+1} = x_{n}^{2} + C $"
   ]
  },
  {
   "cell_type": "markdown",
   "metadata": {},
   "source": [
    "The above equation helps us to plot a Mandelbrot set. Note that it does not define $(x,y)$ pairs. Instead, it defines a series. If we set $ x=0 $ and $C=1$ we get the series: $1,2,5,26,(26^2 + 1)$, etc. Choosing different values of C will give vastly different series. Some of these series will repeat, some will converge, and the rest will diverge. This is true whether C is a real number or a complex number.\n",
    "\n",
    "If we assume C is a complex number, $a+bi$, we can plot $(a,b)$ for multiple values of C. We can plug C into the equation above and generate our series. Depending on the rate of change in the series values, we can assign a color. Usually, convegent series are assigned black and quickly divergent series are assigend white. The series in the example above diverges fairly quickly so you would plot a fairly light color at the point $(1,0)$. You can control the appearance of your plots by assigning different functions to compute color: $f(dx) = color$. The color is determined by the rate of change in your series for any given value of C.\n"
   ]
  },
  {
   "cell_type": "code",
   "execution_count": 2,
   "metadata": {},
   "outputs": [],
   "source": [
    "from PIL import Image\n",
    "import colorsys\n",
    "import math\n",
    "import os"
   ]
  },
  {
   "cell_type": "code",
   "execution_count": 3,
   "metadata": {},
   "outputs": [],
   "source": [
    "width=1000\n",
    "x=-0.65\n",
    "y=0\n",
    "xRange=3.4\n",
    "aspectRatio=4/3\n",
    "precision=500"
   ]
  },
  {
   "cell_type": "code",
   "execution_count": 4,
   "metadata": {},
   "outputs": [],
   "source": [
    "height=round(width/aspectRatio)\n",
    "yRange=xRange/aspectRatio\n",
    "minX=x-xRange/2\n",
    "maxX=x+xRange/2\n",
    "minY=y-yRange/2\n",
    "maxY=y+yRange/2"
   ]
  },
  {
   "cell_type": "code",
   "execution_count": 5,
   "metadata": {},
   "outputs": [],
   "source": [
    "img = Image.new('RGB',(width,height), color='black')\n",
    "pixels = img.load()"
   ]
  },
  {
   "cell_type": "code",
   "execution_count": 6,
   "metadata": {},
   "outputs": [],
   "source": [
    "for row in range(height):\n",
    "    for col in range(width):\n",
    "        x = minX + col*xRange/width\n",
    "        y = maxY - row*yRange/height"
   ]
  },
  {
   "cell_type": "code",
   "execution_count": null,
   "metadata": {},
   "outputs": [],
   "source": []
  }
 ],
 "metadata": {
  "kernelspec": {
   "display_name": "jupyter",
   "language": "python",
   "name": "jupyter"
  },
  "language_info": {
   "codemirror_mode": {
    "name": "ipython",
    "version": 3
   },
   "file_extension": ".py",
   "mimetype": "text/x-python",
   "name": "python",
   "nbconvert_exporter": "python",
   "pygments_lexer": "ipython3",
   "version": "3.8.5"
  }
 },
 "nbformat": 4,
 "nbformat_minor": 4
}
